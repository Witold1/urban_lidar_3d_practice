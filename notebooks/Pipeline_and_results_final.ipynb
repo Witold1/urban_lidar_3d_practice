{
 "cells": [
  {
   "cell_type": "code",
   "execution_count": 1,
   "id": "c86cfc81",
   "metadata": {},
   "outputs": [
    {
     "data": {
      "text/html": [
       "<style><style>\n",
       "\n",
       ".output_png {\n",
       "    display: table-cell;\n",
       "    text-align: center;\n",
       "    vertical-align: middle;\n",
       "    horizontal-align: middle;\n",
       "}\n",
       "\n",
       "h1 {\n",
       "    text-align: left;\n",
       "    background-color: grey;\n",
       "    border-style: solid;\n",
       "    border-width: 2px;\n",
       "    padding: 15px;\n",
       "    margin: 0;\n",
       "    font-family: serif;\n",
       "    color: white;\n",
       "}\n",
       "\n",
       "</style>\n",
       "</style>"
      ],
      "text/plain": [
       "<IPython.core.display.HTML object>"
      ]
     },
     "execution_count": 1,
     "metadata": {},
     "output_type": "execute_result"
    }
   ],
   "source": [
    "from IPython.core.display import HTML\n",
    "# https://stackoverflow.com/questions/32156248/how-do-i-set-custom-css-for-my-ipython-ihaskell-jupyter-notebook\n",
    "styles = open('./custom_style.css', \"r\").read()\n",
    "s = '<style>%s</style>' % styles     \n",
    "HTML(s)"
   ]
  },
  {
   "cell_type": "markdown",
   "id": "4bd4409c",
   "metadata": {},
   "source": [
    "# CONTENTS"
   ]
  },
  {
   "cell_type": "markdown",
   "id": "0656110c",
   "metadata": {},
   "source": [
    "⓪ [ARCHITECTURE](#📐-ARCHITECTURE)\n",
    "\n",
    "① [PREPROCESSING](#🏭-PREPROCESSING)\n",
    "\n",
    "② [VISUALIZATIONS](#🖼️-VISUALIZATIONS)\n",
    "\n",
    "③ [HILLSHADING EXPERIMENTS](#⛰-🗺%EF%B8%8F-HILLSHADING-EXPERIMENTS)"
   ]
  },
  {
   "cell_type": "markdown",
   "id": "0f0eeae2",
   "metadata": {},
   "source": [
    "# 📐 ARCHITECTURE"
   ]
  },
  {
   "cell_type": "markdown",
   "id": "d649856b",
   "metadata": {},
   "source": [
    "🅐 Example of a pipeline **from an internet**\n",
    "\n",
    "<table>\n",
    "  <tr>\n",
    "    <td><img src=\"https://ars.els-cdn.com/content/image/1-s2.0-S1574954122002862-gr1.jpg\"></td>\n",
    "  </tr>\n",
    "  <tr>\n",
    "    <td><a href=\"https://www.sciencedirect.com/science/article/pii/S1574954122002862\">[Link]</a></td>\n",
    "  </tr>\n",
    "</table>\n",
    "\n",
    "🅑 Pipeline scheme of **the current project**\n",
    "\n",
    "<table>\n",
    "    <tr>\n",
    "      <td>\n",
    "      <img src=\"../figures/external/pipeline_flow.png?raw=true\" align=\"center\" alt=\"pipeline flow (draft)\" width=\"75%\">\n",
    "      </td>\n",
    "    </tr>\n",
    "</table>"
   ]
  },
  {
   "cell_type": "markdown",
   "id": "949ff37f",
   "metadata": {},
   "source": [
    "[To table of contents](#CONTENTS)"
   ]
  },
  {
   "cell_type": "markdown",
   "id": "92617790",
   "metadata": {},
   "source": [
    "# 🏭 PREPROCESSING\n",
    "_From LiDAR Point-Cloud to Mesh Raster_"
   ]
  },
  {
   "cell_type": "markdown",
   "id": "c2e2f08a",
   "metadata": {},
   "source": [
    "🅒 Preprocessing scheme of the current project\n",
    "<table>\n",
    "  <tr>\n",
    "    <td><img src=\"../figures/external/preprocessing_logic.png?raw=true\" align=\"right\" alt=\"preprocessing_logic\" width=\"80%\"></td>\n",
    "  </tr>\n",
    "</table>"
   ]
  },
  {
   "cell_type": "code",
   "execution_count": null,
   "id": "78ceb32d",
   "metadata": {},
   "outputs": [],
   "source": [
    "import sys; sys.path.insert(0, '..')\n",
    "\n",
    "import src.get_data as get_data\n",
    "import src.custom_visualizations as custom_visualizations\n",
    "\n",
    "import importlib; importlib.reload(get_data); importlib.reload(custom_visualizations);"
   ]
  },
  {
   "cell_type": "code",
   "execution_count": null,
   "id": "ac3a0a20",
   "metadata": {},
   "outputs": [],
   "source": [
    "print('Create folders')\n",
    "_create_folders_structure()\n",
    "\n",
    "for key in DATA_LINKS.keys():\n",
    "    print(f'CITY : {key}')\n",
    "    \n",
    "    print('Download')\n",
    "    get_data.download_lidar_files(links=DATA_LINKS[key], run=False)\n",
    "    gc.collect()\n",
    "    \n",
    "    print('Decompress LAZ')\n",
    "    if key != 'MIAMI FL USA':\n",
    "        get_data.decompress_laz_files(input_folder='/kaggle/working/laz_files/', run=False)\n",
    "        gc.collect()\n",
    "        \n",
    "    print('Rasterize (& filter outliers in point clouds)')\n",
    "    get_data.rasterize_lidar_files(input_folder='/kaggle/working/las_files/', filter_outliers=True, run=False)\n",
    "    gc.collect()\n",
    "    \n",
    "    print('Mosaic')\n",
    "    mosaic_backend = 'whitebox'\n",
    "    output_mosaic_path = f'/kaggle/working/{key}_mosaic_{mosaic_backend}_bilinear.tif'\n",
    "    get_data.mosaic_rastersized_lidar_files(input_folder='/kaggle/working/tif_files/', output_mosaic_path=output_mosaic_path, mosaic_backend=mosaic_backend, run=False)\n",
    "    gc.collect()\n",
    "    \n",
    "    print('Filter raster')\n",
    "    output_filtered_mosaic_path = f'/kaggle/working/{key}_{mosaic_backend}_bilinear_filtered.tif'\n",
    "    get_data.filter_mosaiced_raster_file(input_file=output_mosaic_path, output_mosaic_path=output_filtered_mosaic_path, method='median', run=False)\n",
    "    gc.collect()\n",
    "    \n",
    "    break"
   ]
  },
  {
   "cell_type": "markdown",
   "id": "7f05e1e3",
   "metadata": {},
   "source": [
    "Check whether unneeded files deleted"
   ]
  },
  {
   "cell_type": "code",
   "execution_count": null,
   "id": "7282ff08",
   "metadata": {},
   "outputs": [],
   "source": [
    "# glob.glob('/kaggle/working/laz_files/*.laz')\n",
    "# !rm /kaggle/working/laz_files/*.laz"
   ]
  },
  {
   "cell_type": "markdown",
   "id": "336cf7bc",
   "metadata": {},
   "source": [
    "[To table of contents](#CONTENTS)"
   ]
  },
  {
   "cell_type": "markdown",
   "id": "3efbffd0",
   "metadata": {},
   "source": [
    "# 🖼️ VISUALIZATIONS\n",
    "_From Mesh Raster to 3D Rendered Plots_"
   ]
  },
  {
   "cell_type": "markdown",
   "id": "c2bb3557",
   "metadata": {},
   "source": [
    "* ① **Isometric and orthographic** views (static angles)\n",
    "* ② **Orbiting** view (fly around)"
   ]
  },
  {
   "cell_type": "markdown",
   "id": "5e9cd1d8",
   "metadata": {},
   "source": [
    "<table>\n",
    "  <tr>\n",
    "    <td><b>Multi-layered render</b><br>[example from VisIt - VTK backed]</td>\n",
    "    <td><b>Orbiting around Miami, FL</b><br>[internal, PyVista - VTK backed]</td>\n",
    "    <td><b>Orthographic Miami, FL</b><br>[internal, PyVista - VTK backed]</td>\n",
    "  </tr>\n",
    "  <tr>\n",
    "    <td valign=\"top\"><img src=\"https://visit-dav.github.io/visit-website/images/gallery-15.jpg\" width='500', height=\"500\"></td>\n",
    "    <td valign=\"top\"><img src=\"../figures/internal/orbiting/MIAMI FL USA_orbiting_2K_36points_Shades.gif\" width='500', height=\"500\">\n",
    "    <td valign=\"top\"><img src=\"../figures/internal/low_resolution/MIAMI FL USA_tst1_biliniar_ortho_1600x1600.png\" width='500', height=\"500\"></td>\n",
    "  </tr>\n",
    "</table>"
   ]
  },
  {
   "cell_type": "code",
   "execution_count": null,
   "id": "c3a3422a",
   "metadata": {},
   "outputs": [],
   "source": [
    "%%time\n",
    "fig, axes = plt.subplots(1, 2, figsize=(8, 10))\n",
    "\n",
    "titles = ['+ Outliers filter', '+ Median filter']\n",
    "for indx, file in enumerate(glob.glob('/kaggle/input/miami-beach-lidar-raster/*.tif')):\n",
    "    axes[indx].set_title(titles[indx])\n",
    "    custom_visualizations.plot_raster_rasterio(raster_path=file, ax=axes[indx])\n",
    "\n",
    "fig.tight_layout()\n",
    "gc.collect()"
   ]
  },
  {
   "cell_type": "code",
   "execution_count": null,
   "id": "e8ff37bb",
   "metadata": {},
   "outputs": [],
   "source": [
    "%%time\n",
    "experiment_number = 1\n",
    "for indx, file in enumerate(glob.glob('/kaggle/input/miami-beach-lidar-raster/*.tif')):\n",
    "    print(f\"{datetime.datetime.now()} Reading for Visualisation. Processing {file}.\")\n",
    "    mesh = get_data._read_processed_rasterized_file(file_path=file, \n",
    "                                      CUSTOM_READ=True)\n",
    "    display(mesh)\n",
    "    topo_clipped = mesh.clip_scalar(scalars=\"data\", value=0.1, invert=False, progress_bar=True)\n",
    "    display(topo_clipped)\n",
    "    if 'mosaic' in file:\n",
    "        topo_clipped.rotate_z(90) # if Miami\n",
    "        key = 'MIAMI FL USA'\n",
    "        wrap_factor = 0.02\n",
    "    else:\n",
    "        topo_clipped.rotate_z(-90) # if Dallas\n",
    "        key = 'DALLAS TX USA'\n",
    "        wrap_factor = 0.5\n",
    "    gc.collect()\n",
    "    print(f'\\t{key}')\n",
    "    \n",
    "    #if add_shades: Shades_\n",
    "    # window_size = [1000, 1000]\n",
    "    print(f\"\\t{datetime.datetime.now()} Visualisation. Orbiting.\")\n",
    "    plot_filename = f\"{key}_tst{experiment_number}_biliniar_orbiting_1k_shades.gif\" # png\n",
    "    custom_visualizations.plot_3D(mesh=topo_clipped.warp_by_scalar(factor=wrap_factor), plotter_params=None, plot_isometric=True, \n",
    "            save_plot_mode='save render orbiting', plot_filename=plot_filename)\n",
    "    gc.collect()\n",
    "    print(f\"\\t{datetime.datetime.now()} Visualisation. Isometric.\")\n",
    "    plot_filename = f\"{key}_tst{experiment_number}_biliniar_isometric_1k_shades.png\"\n",
    "    custom_visualizations.plot_3D(mesh=topo_clipped.warp_by_scalar(factor=wrap_factor), plotter_params=None, plot_isometric=True, \n",
    "            save_plot_mode='save render', plot_filename=plot_filename)\n",
    "    gc.collect()\n",
    "    print(f\"\\t{datetime.datetime.now()} Visualisation. Orthographic.\")\n",
    "    plot_filename = f\"{key}_tst{experiment_number}_biliniar_ortho_1k_shades.png\"\n",
    "    custom_visualizations.plot_3D(mesh=topo_clipped.warp_by_scalar(factor=wrap_factor), plotter_params=None, plot_isometric=False, \n",
    "            save_plot_mode='save render', plot_filename=plot_filename)\n",
    "    gc.collect()"
   ]
  },
  {
   "cell_type": "markdown",
   "id": "6981dc9f",
   "metadata": {},
   "source": [
    "[To table of contents](#CONTENTS)"
   ]
  },
  {
   "cell_type": "markdown",
   "id": "46ee1c21",
   "metadata": {},
   "source": [
    "# ⛰ 🗺️ HILLSHADING EXPERIMENTS\n",
    "_From Mesh Raster to Shaded Elevation Plots_"
   ]
  },
  {
   "cell_type": "markdown",
   "id": "fac80d2e",
   "metadata": {},
   "source": [
    "① There are a few out-of-a-box ways to plot terrain sheded maps in a fast & good-to-go manner:\n",
    "1. **`matplotlib.colors.LightSource`**\n",
    "    * \"raw\" `matplotlib`\n",
    "    * terrain shader built into `matplotlib`\n",
    "    * see [[documentation]](https://matplotlib.org/stable/api/_as_gen/matplotlib.colors.LightSource.html) | [[example]](https://matplotlib.org/stable/gallery/specialty_plots/topographic_hillshading.html)\n",
    "    \n",
    "    \n",
    "2. **`rioxarray.plot.imshow` / `rioxarray.plot.imshow.contour`** (uses **`rasterio`** backend)\n",
    "    * `matplotlib`-based \n",
    "    * raster processing & plotting interfaces of `rioxarray`\n",
    "    * see [[documentation]](https://corteva.github.io/rioxarray/stable/examples/reproject.html) | [[example]](https://www.earthdatascience.org/courses/use-data-open-source-python/intro-raster-data-python/fundamentals-raster-data/open-lidar-raster-python-xarray/)\n",
    "    \n",
    "3. **`earthpy`** (`earthpy.spatial`, `earthpy.plot`)\n",
    "    * `matplotlib`-based \n",
    "    * raster processing & plotting interfaces built into `earthpy`\n",
    "    * see [[documentation]](https://earthpy.readthedocs.io/en/latest/_modules/earthpy/plot.html?highlight=_plot_image) | [[example]](https://earthpy.readthedocs.io/en/latest/gallery_vignettes/plot_dem_hillshade.html)\n",
    "    \n",
    "② Auxilary notes:\n",
    "1. Check whether you work with **`numpy.ndarray`** or **`xarray.core.dataarray.DataArray`** or some other structure\n",
    "1. Check whether your raster stores **`CRS`** and **`extents`** information\n",
    "1. To handle polygons (shapes), check f.e. **`gpd`**, **`shapely`**, **`osmnx`** etc\n",
    "1. To handle some custom water detection, check flood alghoritms **`skimage.segmentation.flood`** and **`OpenCV's floodFill`**"
   ]
  },
  {
   "cell_type": "markdown",
   "id": "4dce947d",
   "metadata": {},
   "source": [
    "<table>\n",
    "    \n",
    "  <tr>\n",
    "    <td width='25%'>Hillshade with overlayed polygon(s)<br>[raw `matplotlib` & `rasterio` (np.array]</td>\n",
    "    <td width='25%'>Hillshade with overlayed polygon(s)<br>[`earthpy` & `rioxarray` (xarray.DataArray)]</td>\n",
    "  </tr>\n",
    "  <tr>\n",
    "    <td valign=\"top\"><img src=\"../figures/internal/hillshading/matplotlib_ rasterio.png\" width=\"350\" height=\"350\"></td>\n",
    "    <td valign=\"top\"><img src=\"../figures/internal/hillshading/earthpy_rioxarray.png\" width=350 height=\"350\"></td>\n",
    "  </tr>\n",
    "    \n",
    "  <tr align=\"center\">\n",
    "    <td align=\"center\" colspan=3>`Raw` (EPSG:2236) -> `Reprojected Raw` (EPSG:4326) -> `Elevation Countours`<br>[all - `rioxarray.plot`]</td>\n",
    "  </tr>\n",
    "  <tr>\n",
    "    <td valign=\"top\" colspan=3><img src=\"../figures/internal/hillshading/raw_projected_countours.png\" width=\"900\" height=\"600\"></td>\n",
    "  </tr>\n",
    "    \n",
    "</table>"
   ]
  },
  {
   "cell_type": "markdown",
   "id": "25a8a993",
   "metadata": {},
   "source": [
    "[To table of contents](#CONTENTS)"
   ]
  },
  {
   "cell_type": "code",
   "execution_count": null,
   "id": "84df9711",
   "metadata": {},
   "outputs": [],
   "source": []
  }
 ],
 "metadata": {
  "kernelspec": {
   "display_name": "Python 3 (ipykernel)",
   "language": "python",
   "name": "python3"
  },
  "language_info": {
   "codemirror_mode": {
    "name": "ipython",
    "version": 3
   },
   "file_extension": ".py",
   "mimetype": "text/x-python",
   "name": "python",
   "nbconvert_exporter": "python",
   "pygments_lexer": "ipython3",
   "version": "3.9.9"
  }
 },
 "nbformat": 4,
 "nbformat_minor": 5
}
